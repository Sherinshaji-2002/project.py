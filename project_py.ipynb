{
  "nbformat": 4,
  "nbformat_minor": 0,
  "metadata": {
    "colab": {
      "name": "project.py",
      "provenance": [],
      "collapsed_sections": []
    },
    "kernelspec": {
      "name": "python3",
      "display_name": "Python 3"
    },
    "language_info": {
      "name": "python"
    }
  },
  "cells": [
    {
      "cell_type": "code",
      "metadata": {
        "id": "6oqfyblieEzG"
      },
      "source": [
        "num = int(input(\"enter a number:\"))\n",
        "try:\n",
        "\n",
        "  if(num%2)==0:\n",
        "   print(\"given number is even\")\n",
        "  else:\n",
        "   print(\"given number is odd\")\n",
        "\n",
        "except:\n",
        "  print(\"the given number is invalid\")"
      ],
      "execution_count": null,
      "outputs": []
    }
  ]
}